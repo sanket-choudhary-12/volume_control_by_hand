{
 "cells": [
  {
   "cell_type": "code",
   "execution_count": 1,
   "id": "5c487fb8",
   "metadata": {},
   "outputs": [],
   "source": [
    "import cv2\n",
    "import mediapipe as mp\n",
    "import pyautogui"
   ]
  },
  {
   "cell_type": "code",
   "execution_count": null,
   "id": "1f214d76",
   "metadata": {},
   "outputs": [
    {
     "name": "stderr",
     "output_type": "stream",
     "text": [
      "/Users/sanket/anaconda3/lib/python3.11/site-packages/pandas/core/arrays/masked.py:60: UserWarning: Pandas requires version '1.3.6' or newer of 'bottleneck' (version '1.3.5' currently installed).\n",
      "  from pandas.core import (\n",
      "WARNING: All log messages before absl::InitializeLog() is called are written to STDERR\n",
      "I0000 00:00:1722921865.712690 10234363 gl_context.cc:357] GL version: 2.1 (2.1 Metal - 88.1), renderer: Apple M1\n",
      "INFO: Created TensorFlow Lite XNNPACK delegate for CPU.\n",
      "W0000 00:00:1722921865.742529 10241267 inference_feedback_manager.cc:114] Feedback manager requires a model with a single signature inference. Disabling support for feedback tensors.\n",
      "W0000 00:00:1722921865.758031 10241268 inference_feedback_manager.cc:114] Feedback manager requires a model with a single signature inference. Disabling support for feedback tensors.\n",
      "/Users/sanket/anaconda3/lib/python3.11/site-packages/google/protobuf/symbol_database.py:55: UserWarning: SymbolDatabase.GetPrototype() is deprecated. Please use message_factory.GetMessageClass() instead. SymbolDatabase.GetPrototype() will be removed soon.\n",
      "  warnings.warn('SymbolDatabase.GetPrototype() is deprecated. Please '\n"
     ]
    }
   ],
   "source": [
    "import cv2\n",
    "import mediapipe as mp\n",
    "from pynput.keyboard import Controller, Key\n",
    "import time\n",
    "\n",
    "x1 = y1 = x2 = y2 = 0\n",
    "webcam = cv2.VideoCapture(0)\n",
    "my_hands = mp.solutions.hands.Hands()\n",
    "drawing_utils = mp.solutions.drawing_utils\n",
    "keyboard = Controller()\n",
    "volume_up = Key.media_volume_up\n",
    "volume_down = Key.media_volume_down\n",
    "\n",
    "# Adjusted thresholds\n",
    "VOLUME_UP_THRESHOLD = 50  # Distance threshold for volume up\n",
    "VOLUME_DOWN_THRESHOLD = 30  # Distance threshold for volume down\n",
    "\n",
    "# Shortened debounce timings\n",
    "MIN_TIME_INTERVAL = 0.2  # Time in seconds between volume changes\n",
    "\n",
    "last_action = None\n",
    "last_action_time = time.time()\n",
    "\n",
    "while True:\n",
    "    _, image = webcam.read()\n",
    "    image = cv2.flip(image, 1)\n",
    "    frame_height, frame_width, _ = image.shape\n",
    "    rgb_image = cv2.cvtColor(image, cv2.COLOR_BGR2RGB)\n",
    "    output = my_hands.process(rgb_image)\n",
    "    hands = output.multi_hand_landmarks\n",
    "    \n",
    "    if hands:\n",
    "        for hand in hands:\n",
    "            drawing_utils.draw_landmarks(image, hand)\n",
    "            landmarks = hand.landmark\n",
    "            for id, landmark in enumerate(landmarks):\n",
    "                x = int(landmark.x * frame_width)\n",
    "                y = int(landmark.y * frame_height)\n",
    "                if id == 8:\n",
    "                    cv2.circle(img=image, center=(x, y), radius=8, color=(0, 255, 255), thickness=3)\n",
    "                    x1 = x\n",
    "                    y1 = y\n",
    "                if id == 4:\n",
    "                    cv2.circle(img=image, center=(x, y), radius=8, color=(0, 0, 255), thickness=3)\n",
    "                    x2 = x\n",
    "                    y2 = y\n",
    "\n",
    "            dist = ((x2 - x1)**2 + (y2 - y1)**2)**0.5\n",
    "            cv2.line(image, (x1, y1), (x2, y2), (0, 255, 0), 5)\n",
    "\n",
    "            current_time = time.time()\n",
    "\n",
    "            if dist > VOLUME_UP_THRESHOLD:\n",
    "                if last_action != 'volumeup' or (current_time - last_action_time) > MIN_TIME_INTERVAL:\n",
    "                    keyboard.press(volume_up)\n",
    "                    keyboard.release(volume_up)\n",
    "                    last_action = 'volumeup'\n",
    "                    last_action_time = current_time\n",
    "            elif dist < VOLUME_DOWN_THRESHOLD:\n",
    "                if last_action != 'volumedown' or (current_time - last_action_time) > MIN_TIME_INTERVAL:\n",
    "                    keyboard.press(volume_down)\n",
    "                    keyboard.release(volume_down)\n",
    "                    last_action = 'volumedown'\n",
    "                    last_action_time = current_time\n",
    "            else:\n",
    "                # If the hand is not in a significant gesture position, do nothing\n",
    "                last_action = None\n",
    "            \n",
    "    cv2.imshow('hand volume gesture', image)\n",
    "    key = cv2.waitKey(1)\n",
    "    if key == 27:  # ESC key to exit\n",
    "        break\n",
    "\n",
    "webcam.release()\n",
    "cv2.destroyAllWindows()\n"
   ]
  },
  {
   "cell_type": "code",
   "execution_count": null,
   "id": "450ec302",
   "metadata": {},
   "outputs": [],
   "source": []
  }
 ],
 "metadata": {
  "kernelspec": {
   "display_name": "Python 3 (ipykernel)",
   "language": "python",
   "name": "python3"
  },
  "language_info": {
   "codemirror_mode": {
    "name": "ipython",
    "version": 3
   },
   "file_extension": ".py",
   "mimetype": "text/x-python",
   "name": "python",
   "nbconvert_exporter": "python",
   "pygments_lexer": "ipython3",
   "version": "3.11.5"
  }
 },
 "nbformat": 4,
 "nbformat_minor": 5
}
